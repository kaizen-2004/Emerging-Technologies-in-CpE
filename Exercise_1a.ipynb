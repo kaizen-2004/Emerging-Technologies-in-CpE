{
 "cells": [
  {
   "cell_type": "code",
   "execution_count": 31,
   "id": "9b3caf97-2a70-4c18-abaf-7c50b4aa3653",
   "metadata": {},
   "outputs": [],
   "source": [
    "import re # I imported regex Python library|"
   ]
  },
  {
   "cell_type": "code",
   "execution_count": null,
   "id": "80996a51-7c69-4dce-b544-ed1143d5a2dc",
   "metadata": {},
   "outputs": [],
   "source": [
    "# I loaded the txt file inside my Jupyter Notebook"
   ]
  },
  {
   "cell_type": "code",
   "execution_count": 5,
   "id": "7a01a0ef-7453-4be4-afa6-1dbf1df93045",
   "metadata": {},
   "outputs": [],
   "source": [
    "with open(\"hamlet.txt\", \"r\", encoding=\"utf-8\") as f:\n",
    "    text = f.read()"
   ]
  },
  {
   "cell_type": "code",
   "execution_count": null,
   "id": "4e9489a5-6e00-488a-bc6b-56cbe8d33b30",
   "metadata": {},
   "outputs": [],
   "source": [
    "# I created variables and loaded each expressions inside"
   ]
  },
  {
   "cell_type": "code",
   "execution_count": 7,
   "id": "7f514b45-9644-427e-b9ba-85d6c45d12f1",
   "metadata": {},
   "outputs": [],
   "source": [
    "pattern_a = r\"\\b\\w*[aeiouAEIOU]\\w*\\b\""
   ]
  },
  {
   "cell_type": "code",
   "execution_count": 8,
   "id": "9cc22f77-a78c-4d68-85f0-4bababdbcd45",
   "metadata": {},
   "outputs": [],
   "source": [
    "pattern_b = r\"\\b\\w+-\\w+\\b\""
   ]
  },
  {
   "cell_type": "code",
   "execution_count": 9,
   "id": "a741d4f2-c3bd-4216-886c-3fe904d8d8da",
   "metadata": {},
   "outputs": [],
   "source": [
    "pattern_c = r\"\\b\\w+ing\\b\""
   ]
  },
  {
   "cell_type": "code",
   "execution_count": 10,
   "id": "52a0f7d5-b883-4c72-8e70-2e459022d65a",
   "metadata": {},
   "outputs": [],
   "source": [
    "pattern_d = r\"\\b\\w+est\\b\""
   ]
  },
  {
   "cell_type": "code",
   "execution_count": 11,
   "id": "1536cafd-9537-4fa4-9b35-7d1cf9728bb5",
   "metadata": {},
   "outputs": [],
   "source": [
    "pattern_e = r\"\\b\\w+(?=[.!?])\""
   ]
  },
  {
   "cell_type": "code",
   "execution_count": 12,
   "id": "16f9e7ca-7f4d-4c52-b97f-d8dd78b94991",
   "metadata": {},
   "outputs": [],
   "source": [
    "# a.) Words containing 2 vowels characters"
   ]
  },
  {
   "cell_type": "code",
   "execution_count": 32,
   "id": "7f8019b0-47a2-42dd-9f2c-21a1bfbd5767",
   "metadata": {},
   "outputs": [
    {
     "name": "stdout",
     "output_type": "stream",
     "text": [
      "['THE', 'TRAGEDY', 'OF', 'HAMLET', 'PRINCE', 'OF', 'DENMARK', 'William', 'Shakespeare', 'Dramatis', 'Personae', 'Claudius', 'King', 'of', 'Denmark', 'Marcellus', 'Officer', 'Hamlet', 'son', 'to', 'the', 'former', 'and', 'nephew', 'to', 'the', 'present', 'king', 'Polonius', 'Lord', 'Chamberlain', 'Horatio', 'friend', 'to', 'Hamlet', 'Laertes', 'son', 'to', 'Polonius', 'Voltemand', 'courtier', 'Cornelius', 'courtier', 'Rosencrantz', 'courtier', 'Guildenstern', 'courtier', 'Osric', 'courtier', 'A', 'Gentleman', 'courtier', 'A', 'Priest', 'Marcellus', 'officer', 'Bernardo', 'officer', 'Francisco', 'a', 'soldier', 'Reynaldo', 'servant', 'to', 'Polonius', 'Players', 'Two', 'Clowns', 'gravediggers', 'Fortinbras', 'Prince', 'of', 'Norway', 'A', 'Norwegian', 'Captain', 'English', 'Ambassadors', 'Getrude', 'Queen', 'of', 'Denmark', 'mother', 'to', 'Hamlet', 'Ophelia', 'daughter', 'to', 'Polonius', 'Ghost', 'of', 'Hamlet', 'Father', 'Lords', 'ladies', 'Officers', 'Soldiers', 'Sailors', 'Messengers', 'Attendants', 'SCENE', 'Elsinore', 'ACT', 'I', 'Scene', 'I', 'Elsinore', 'A', 'platform', 'before', 'the', 'Castle', 'Enter', 'two', 'Sentinels', 'first', 'Francisco', 'who', 'paces', 'up', 'and', 'down', 'at', 'his', 'post', 'then', 'Bernardo', 'who', 'approaches', 'him', 'Ber', 'Who', 'there', 'Fran', 'Nay', 'answer', 'me', 'Stand', 'and', 'unfold', 'yourself', 'Ber', 'Long', 'live', 'the', 'King', 'Fran', 'Bernardo', 'Ber', 'He', 'Fran', 'You', 'come', 'most', 'carefully', 'upon', 'your', 'hour', 'Ber', 'Tis', 'now', 'struck', 'twelve', 'Get', 'thee', 'to', 'bed', 'Francisco', 'Fran', 'For', 'this', 'relief', 'much', 'thanks', 'Tis', 'bitter', 'cold', 'And', 'I', 'am', 'sick', 'at', 'heart', 'Ber', 'Have', 'you', 'had', 'quiet', 'guard', 'Fran', 'Not', 'a', 'mouse', 'stirring', 'Ber', 'Well', 'good', 'night', 'If', 'you', 'do', 'meet', 'Horatio', 'and', 'Marcellus', 'The', 'rivals', 'of', 'watch', 'bid', 'them', 'make', 'haste', 'Enter', 'Horatio', 'and', 'Marcellus', 'Fran', 'I', 'think', 'I', 'hear', 'them', 'Stand', 'ho', 'Who', 'is', 'there', 'Hor', 'Friends', 'to', 'this', 'ground', 'Mar', 'And', 'liegemen', 'to', 'the', 'Dane', 'Fran', 'Give', 'you', 'good', 'night', 'Mar', 'O', 'farewell', 'honest', 'soldier', 'Who', 'hath', 'reliev', 'you', 'Fran', 'Bernardo', 'hath', 'place', 'Give', 'you', 'good', 'night', 'Exit', 'Mar', 'Holla', 'Bernardo', 'Ber', 'Say', 'What', 'is', 'Horatio', 'there', 'Hor', 'A', 'piece', 'of', 'him', 'Ber', 'Welcome', 'Horatio', 'Welcome', 'good', 'Marcellus', 'Mar', 'What', 'has', 'this', 'thing', 'appear', 'again', 'to', 'night', 'Ber', 'I', 'have', 'seen', 'nothing', 'Mar', 'Horatio', 'says', 'tis']\n"
     ]
    }
   ],
   "source": [
    "print(re.findall(pattern_a,text)[:300]) # I limited the result to 300 words to prevent overflowing for screenshot"
   ]
  },
  {
   "cell_type": "code",
   "execution_count": 16,
   "id": "9ae7b113-e4ff-46b7-837d-59323534c58b",
   "metadata": {},
   "outputs": [],
   "source": [
    "# b.) Words that contain a hyphen"
   ]
  },
  {
   "cell_type": "code",
   "execution_count": 17,
   "id": "3444cdd7-0585-4b17-90b3-aaf206cc5994",
   "metadata": {},
   "outputs": [
    {
     "name": "stdout",
     "output_type": "stream",
     "text": [
      "['to-night', 'joint-labourer', 'post-haste', 'shrill-sounding', 'to-night', 'to-day', 'to-day', 'self-slaughter', 'cap-a', 'fear-surprised', 'to-night', 'to-night', 'to-night', 'new-hatch', 'a-making', 'to-night', 'heavy-headed', 'seeming-virtuous', 'falling-off', 'lazar-like', 'to-night', 'head-shake', 'down-gyved', 'well-took', 'God-a', 'plum-tree', 'over-happy', 'ever-preserved', 'uncle-father', 'aunt-mother', 'north-north', 'pastoral-comical', 'historical-pastoral', 'tragical-historical', 'tragical-comical', 'historical-pastoral', 'to-morrow', 'to-morrow', 'muddy-mettled', 'John-a', 'pigeon-liver', 'a-cursing', 're-deliver', 'something-settled', 'periwig-pated', 'out-herods', 'to-night', 'promise-cramm', 'jig-maker', 'hobby-horse', 'hobby-horse', 'me-with', 'by-and', 'by-and', 'By-and', 'free-footed', 'new-born', 'thought-sick', 'heaven-kissing', 'hoodman-blind', 'to-night', 'to-night', 'to-night', 'ill-breeding', 'true-love', 'grass-green', 'true-love', 'To-morrow', 'hugger-mugger', 'fair-judgment', 'life-rend', 'A-down', 'a-down', 'a-down', 'To-morrow', 'demi-natur', 'too-much', 'mermaid-like', 'branches-it', 'even-Christen', 'grave-makers', 'gallows-maker', 'grave-maker', 'grave-making', 'Such-a', 'Such-a', 'grave-maker', 'now-a', 'three-and', 'peace-parted', 'bride-bed', 'wonder-wounded', 'Rough-hew', 'sea-gown', 'such-like', 'sea-fight', 'liberal-conceited', 'trial-the', 'by-and']\n"
     ]
    }
   ],
   "source": [
    "print(re.findall(pattern_b,text))"
   ]
  },
  {
   "cell_type": "code",
   "execution_count": 18,
   "id": "09acf2b9-d004-43aa-a148-ce07cb7beaaa",
   "metadata": {},
   "outputs": [],
   "source": [
    "# c.) Words in their present progressive form (ends in -ing)"
   ]
  },
  {
   "cell_type": "code",
   "execution_count": 34,
   "id": "91bc80fe-3626-423c-b2ed-96f243b009b1",
   "metadata": {
    "scrolled": true
   },
   "outputs": [
    {
     "name": "stdout",
     "output_type": "stream",
     "text": [
      "['King', 'king', 'King', 'stirring', 'thing', 'nothing', 'Touching', 'beating', 'King', 'King', 'something', 'King', 'king', 'king', 'King', 'preceding', 'coming', 'thing', 'foreknowing', 'being', 'thing', 'sounding', 'warning', 'erring', 'crowing', 'dawning', 'fitting', 'morning', 'King', 'King', 'dropping', 'weighing', 'Holding', 'thinking', 'Importing', 'meeting', 'greeting', 'Giving', 'King', 'King', 'nothing', 'asking', 'King', 'King', 'King', 'Passing', 'King', 'mourning', 'understanding', 'thing', 'unprevailing', 'going', 'King', 'loving', 'smiling', 'King', 'Respeaking', 'Everlasting', 'king', 'loving', 'flushing', 'wedding', 'king', 'King', 'King', 'thing', 'morning', 'understanding', 'trifling', 'lasting', 'yielding', 'saying', 'spring', 'blessing', 'blessing', 'being', 'borrowing', 'blessing', 'something', 'touching', 'sterling', 'Running', 'Giving', 'making', 'something', 'Breathing', 'nipping', 'King', 'ring', 'upspring', 'breaking', 'Carrying', 'Being', 'Bring', 'King', 'Making', 'Being', 'thing', 'Something', 'tormenting', 'hearing', 'sleeping', 'sting', 'seeming', 'falling', 'morning', 'Sleeping', 'sleeping', 'reckoning', 'sting', 'smiling', 'dwelling', 'whirling', 'Touching', 'seeing', 'pronouncing', 'giving', 'friending', 'willing', 'finding', 'gaming', 'drinking', 'fencing', 'swearing', 'quarrelling', 'Drabbing', 'meaning', 'laying', 'thing', 'working', 'Having', 'According', 'something', 'gaming', 'falling', 'Going', 'sewing', 'knocking', 'shaking', 'waving', 'being', 'King', 'King', 'being', 'King', 'King', 'sending', 'Something', 'understanding', 'being', 'living', 'king', 'King', 'bring', 'King', 'king', 'King', 'King', 'bring', 'King', 'King', 'nothing', 'nothing', 'King', 'King', 'wing', 'winking', 'King', 'King', 'King', 'King', 'reading', 'reading', 'King', 'being', 'kissing', 'blessing', 'harping', 'purging', 'meeting', 'anything', 'being', 'nothing', 'thinking', 'king', 'inclining', 'anything', 'King', 'King', 'erhanging', 'thing', 'moving', 'smiling', 'coming', 'king', 'wearing', 'sing', 'throwing', 'King', 'something', 'swaddling', 'morning', 'passing', 'passing', 'ring', 'anything', 'cunning', 'parching', 'Striking', 'Seeming', 'flaming', 'declining', 'nothing', 'bleeding', 'ning', 'Mincing', 'burning', 'according', 'whipping', 'working', 'suiting', 'nothing', 'nothing', 'king', 'cursing', 'sitting', 'cunning', 'something', 'pleasing', 'thing', 'King', 'King', 'King', 'Grating', 'bring', 'forcing', 'King', 'King', 'seeing', 'bring', 'King', 'ring', 'thing', 'coming', 'King', 'opposing', 'something', 'crawling', 'King', 'King', 'something', 'something', 'beating', 'King', 'nothing', 'erdoing', 'anything', 'playing', 'having', 'King', 'fawning', 'ring', 'nothing', 'Something', 'King', 'seeming', 'playing', 'detecting', 'King', 'carrying', 'coming', 'King', 'King', 'nothing', 'King', 'nothing', 'Nothing', 'thinking', 'King', 'embracing', 'seeing', 'King', 'unwilling', 'miching', 'stooping', 'hearing', 'ring', 'King', 'King', 'nothing', 'King', 'King', 'ending', 'lasting', 'King', 'King', 'King', 'King', 'dallying', 'groaning', 'croaking', 'agreeing', 'seeing', 'King', 'King', 'poisoning', 'King', 'King', 'King', 'something', 'lying', 'thing', 'witching', 'King', 'King', 'king', 'King', 'going', 'King', 'being', 'shuffling', 'struggling', 'praying', 'purging', 'gaming', 'swearing', 'King', 'coming', 'King', 'king', 'king', 'intruding', 'wringing', 'wring', 'kissing', 'Blasting', 'feeling', 'feeling', 'smelling', 'flaming', 'honeying', 'making', 'king', 'acting', 'fighting', 'sleeping', 'preaching', 'nothing', 'Nothing', 'nothing', 'nothing', 'cunning', 'Bring', 'flattering', 'mining', 'blessing', 'King', 'paddling', 'packing', 'peating', 'tugging', 'King', 'King', 'King', 'hearing', 'something', 'King', 'divulging', 'King', 'bring', 'king', 'King', 'King', 'squeezing', 'King', 'King', 'King', 'King', 'thing', 'thing', 'nothing', 'Bring', 'King', 'King', 'sending', 'King', 'King', 'Bring', 'Bring', 'King', 'King', 'king', 'King', 'king', 'King', 'Nothing', 'king', 'King', 'King', 'King', 'everything', 'King', 'King', 'King', 'loving', 'King', 'everything', 'congruing', 'king', 'Looking', 'thinking', 'thing', 'Exposing', 'nothing', 'nothing', 'nothing', 'breeding', 'fearing', 'King', 'King', 'King', 'morning', 'King', 'King', 'King', 'containing', 'nothing', 'ring', 'King', 'overpeering', 'king', 'king', 'king', 'King', 'king', 'king', 'King', 'king', 'King', 'King', 'King', 'King', 'King', 'ring', 'King', 'thing', 'sing', 'nothing', 'King', 'King', 'Seafaring', 'King', 'Finding', 'King', 'bring', 'King', 'King', 'knowing', 'King', 'dipping', 'spring', 'King', 'King', 'King', 'asking', 'thing', 'King', 'King', 'King', 'checking', 'King', 'hearing', 'King', 'Importing', 'doing', 'King', 'King', 'King', 'nothing', 'coming', 'King', 'painting', 'King', 'nothing', 'growing', 'easing', 'King', 'bring', 'being', 'contriving', 'shuffling', 'thing', 'King', 'sipping', 'ring', 'weeping', 'King', 'beating', 'nothing', 'feeling', 'making', 'stealing', 'sing', 'breeding', 'shrouding', 'king', 'losing', 'laying', 'King', 'grinning', 'thing', 'stopping', 'King', 'King', 'bringing', 'sing', 'spring', 'ring', 'howling', 'ring', 'something', 'King', 'King', 'leaping', 'Singeing', 'burning', 'drooping', 'King', 'living', 'proceeding', 'fighting', 'making', 'forgetting', 'Importing', 'finding', 'Being', 'learning', 'King', 'knowing', 'shriving', 'changeling', 'king', 'king', 'ring', 'king', 'thing', 'showing', 'nothing', 'King', 'King', 'breathing', 'willing', 'King', 'nothing', 'lapwing', 'King', 'King', 'coming', 'gaingiving', 'anything', 'King', 'King', 'King', 'disclaiming', 'King', 'King', 'King', 'King', 'King', 'King', 'King', 'King', 'King', 'King', 'Nothing', 'scuffling', 'King', 'King', 'King', 'King', 'King', 'King', 'King', 'standing', 'dying', 'sing', 'bearing', 'unknowing', 'cunning', 'marching']\n"
     ]
    }
   ],
   "source": [
    "print(re.findall(pattern_c,text)[:300]) # I limited the result to 300 words as well to prevent overflowing for screenshot"
   ]
  },
  {
   "cell_type": "code",
   "execution_count": 20,
   "id": "3c05fe75-c912-4ea0-b307-fde27c411f47",
   "metadata": {},
   "outputs": [],
   "source": [
    "# d.) Words in their superlative form (ends in -est)"
   ]
  },
  {
   "cell_type": "code",
   "execution_count": 35,
   "id": "27e72194-f34c-47a2-b3f4-eff9d524d1d4",
   "metadata": {
    "scrolled": true
   },
   "outputs": [
    {
     "name": "stdout",
     "output_type": "stream",
     "text": [
      "['Priest', 'honest', 'mightiest', 'wisest', 'best', 'dearest', 'chiefest', 'best', 'dearest', 'chariest', 'best', 'best', 'west', 'lightest', 'best', 'incest', 'pursuest', 'honest', 'request', 'Rest', 'rest', 'rest', 'rest', 'best', 'best', 'honest', 'Honest', 'honest', 'honest', 'rest', 'honest', 'lest', 'west', 'best', 'honest', 'rest', 'honest', 'honest', 'honest', 'rest', 'best', 'tempest', 'blest', 'seest', 'littlest', 'rest', 'protest', 'jest', 'jest', 'forest', 'rest', 'lowest', 'highest', 'eldest', 'weakest', 'strongest', 'Lest', 'test', 'blest', 'wisest', 'best', 'blackest', 'profoundest', 'wisest', 'knowest', 'rest', 'didest', 'unworthiest', 'quest', 'answerest', 'guest', 'guest', 'liest', 'liest', 'rest', 'jest', 'Priest', 'Priest', 'rest', 'priest', 'liest', 'earnest', 'lest', 'darkest', 'best', 'arrest', 'conquest', 'rest', 'rest', 'noblest', 'lest']\n"
     ]
    }
   ],
   "source": [
    "print(re.findall(pattern_d,text))"
   ]
  },
  {
   "cell_type": "code",
   "execution_count": null,
   "id": "b88c42d8-0f42-47f4-ac1f-1eaa48912fdf",
   "metadata": {},
   "outputs": [],
   "source": [
    "# e. Words at the end of the sentence (next to sentence ending punctuations)"
   ]
  },
  {
   "cell_type": "code",
   "execution_count": 23,
   "id": "1afec7da-ee91-4996-8a7b-7c3e75e693fb",
   "metadata": {
    "scrolled": true
   },
   "outputs": [
    {
     "name": "stdout",
     "output_type": "stream",
     "text": [
      "['Denmark', 'Officer', 'king', 'Chamberlain', 'Hamlet', 'Polonius', 'courtier', 'courtier', 'courtier', 'courtier', 'courtier', 'courtier', 'Priest', 'officer', 'officer', 'Polonius', 'Players', 'gravediggers', 'Norway', 'Captain', 'Ambassadors', 'Hamlet', 'Polonius', 'Father', 'Attendants', 'SCENE', 'Elsinore', 'I', 'I', 'Elsinore', 'Castle', 'Ber', 'there', 'Fran', 'me', 'yourself', 'Ber', 'King', 'Fran', 'Bernardo', 'Ber', 'He', 'Fran', 'hour', 'Ber', 'twelve', 'Francisco', 'Fran', 'thanks', 'heart', 'Ber', 'guard', 'Fran', 'stirring', 'Ber', 'night', 'haste', 'Marcellus', 'Fran', 'them', 'ho', 'there', 'Hor', 'ground', 'Mar', 'Dane', 'Fran', 'night', 'Mar', 'soldier', 'you', 'Fran', 'place', 'night', 'Exit', 'Mar', 'Bernardo', 'Ber', 'Hor', 'him', 'Ber', 'Horatio', 'Marcellus', 'Mar', 'night', 'Ber', 'nothing', 'Mar', 'us', 'it', 'Hor', 'appear', 'Ber', 'seen', 'Hor', 'this', 'Ber', 'Ghost', 'Mar', 'Peace', 'off', 'again', 'Ber', 'dead', 'Mar', 'Horatio', 'Ber', 'King', 'Horatio', 'Hor', 'like', 'wonder', 'Ber', 'to', 'Mar', 'Horatio', 'Hor', 'march', 'speak', 'Mar', 'offended', 'Ber', 'away', 'Hor', 'Stay', 'speak', 'speak', 'Ghost', 'Mar', 'answer', 'Ber', 'Horatio', 'pale', 'fantasy', 't', 'Hor', 'eyes', 'Mar', 'King', 'Hor', 'thyself', 'combated', 'ice', 'strange', 'Mar', 'watch', 'Hor', 'state', 'Mar', 'week', 'day', 'me', 'Hor', 'I', 'so', 'Hamlet', 'land', 'Ber', 'so', 'wars', 'Hor', 'eye', 'eclipse', 'countrymen', 'again', 'soft', 'behold', 'again', 'me', 'illusion', 'arms', 'me', 'me', 'speak', 'crows', 'it', 'speak', 'Marcellus', 'Mar', 'partisan', 'Hor', 'stand', 'Ber', 'here', 'Hor', 'here', 'Mar', 'gone', 'Ghost', 'mockery', 'Ber', 'crew', 'Hor', 'summons', 'probation', 'Mar', 'cock', 'time', 'Hor', 'it', 'hill', 'him', 'duty', 'conveniently', 'Exeunt', 'II', 'Elsinore', 'Castle', 'Flourish', 'Attendant', 'King', 'ourselves', 'along', 'thanks', 'brother', 'him', 'meeting', 'allow', 'paper', 'duty', 'Cor', 'Volt', 'duty', 'King', 'nothing', 'farewell', 'Cornelius', 'you', 'suit', 'Laertes', 'voice', 'asking', 'father', 'Laertes', 'Laer', 'pardon', 'King', 'leave', 'Polonius', 'Pol', 'consent', 'go', 'King', 'Laertes', 'will', 'Ham', 'kind', 'King', 'you', 'Ham', 'lord', 'sun', 'Queen', 'Denmark', 'dust', 'common', 'eternity', 'Ham', 'common', 'Queen', 'thee', 'Ham', 'is', 'seems', 'truly', 'woe', 'King', 'sorrow', 'stubbornness', 'heart', 'Fie', 'so', 'you', 'son', 'Queen', 'Hamlet', 'Wittenberg', 'Ham', 'madam', 'King', 'reply', 'Denmark', 'come', 'thunder', 'away', 'Flourish', 'Hamlet', 'Ham', 'dew', 'slaughter', 'God', 'God', 'world', 't', 'fie', 'merely', 'this', 'dead', 'two', 'roughly', 'earth', 'remember', 't', 'woman', 'God', 'Hercules', 'married', 'sheets', 'good', 'tongue', 'Bernardo', 'Hor', 'lordship', 'Ham', 'well', 'Horatio', 'myself', 'Hor', 'ever', 'Ham', 'you', 'Horatio', 'Marcellus', 'Mar', 'lord', 'Ham', 'you', 'sir', 'Wittenberg', 'Hor', 'lord', 'Ham', 'yourself', 'truant', 'Elsinore', 'depart', 'Hor', 'funeral', 'Ham', 'student', 'wedding', 'Hor', 'upon', 'Ham', 'Horatio', 'tables', 'Horatio', 'father', 'Hor', 'lord', 'Ham', 'Horatio', 'Hor', 'once', 'king', 'Ham', 'all', 'again', 'Hor', 'yesternight', 'Ham', 'Saw', 'who', 'Hor', 'father', 'Ham', 'father', 'Hor', 'you', 'Ham', 'hear', 'Hor', 'red', 'them', 'him', 'comes', 'father', 'like', 'Ham', 'this', 'Mar', 'd', 'Ham', 'it', 'Hor', 'none', 'sight', 'Ham', 'strange', 'Hor', 'it', 'Ham', 'sirs', 'me', 'night', 'Mar', 'Ber', 'lord', 'Ham', 'you', 'Both', 'lord', 'Ham', 'toe', 'Both', 'foot', 'Ham', 'face', 'Hor', 'lord', 'up', 'Ham', 'frowningly', 'Hor', 'anger', 'Ham', 'red', 'Hor', 'pale', 'Ham', 'you', 'Hor', 'constantly', 'Ham', 'there', 'Hor', 'you', 'Ham', 'like', 'long', 'Hor', 'hundred', 'Both', 'longer', 'Hor', 't', 'Ham', 'no', 'Hor', 'd', 'Ham', 'night', 'again', 'Hor', 'will', 'Ham', 'peace', 'tongue', 'loves', 'well', 'you', 'All', 'honour', 'Ham', 'you', 'Farewell', 'arms', 'well', 'play', 'come', 'soul', 'eyes', 'Exit', 'III', 'Elsinore', 'Polonius', 'Ophelia', 'Laer', 'd', 'Farewell', 'you', 'Oph', 'that', 'Laer', 'more', 'Oph', 'so', 'Laer', 'more', 'withal', 'birth', 'head', 'withal', 'importunity', 'desire', 'moon', 'strokes', 'imminent', 'fear', 'near', 'Oph', 'heart', 'rede', 'Laer', 'not', 'Polonius', 'long', 'comes', 'leave', 'Pol', 'Laertes', 'shame', 'for', 'thee', 'character', 'act', 'comrade', 'thee', 'judgment', 'that', 'husbandry', 'man', 'Farewell', 'thee', 'Laer', 'lord', 'Pol', 'you', 'tend', 'Laer', 'you', 'Oph', 'it', 'Laer', 'Farewell', 'Exit', 'Pol', 'you', 'Oph', 'Hamlet', 'Pol', 'bethought', 'bounteous', 'honour', 'you', 'truth', 'Oph', 'me', 'Pol', 'Affection', 'Pooh', 'circumstance', 'them', 'Oph', 'Pol', 'you', 'sterling', 'fool', 'Oph', 'fashion', 'Pol', 'it', 'to', 'Oph', 'heaven', 'Pol', 'woodcocks', 'vows', 'fire', 'presence', 'parley', 'you', 'beguile', 'Hamlet', 'you', 'ways', 'Oph', 'lord', 'Exeunt', 'IV', 'Elsinore', 'Castle', 'Marcellus', 'Ham', 'cold', 'Hor', 'air', 'Ham', 'now', 'Hor', 'twelve', 'Mar', 'struck', 'Hor', 'Indeed', 'not', 'walk', 'off', 'lord', 'Ham', 'pledge', 'Hor', 'custom', 'Ham', 'observance', 'attribute', 'fault', 'scandal', 'Ghost', 'Hor', 'comes', 'Ham', 'us', 'thee', 'Dane', 'me', 'again', 'souls', 'this', 'wherefore', 'do', 'Hamlet', 'Hor', 'alone', 'Mar', 'ground', 'it', 'Hor', 'means', 'Ham', 'speak', 'it', 'Hor', 'lord', 'Ham', 'fear', 'itself', 'again', 'it', 'Hor', 'madness', 'it', 'beneath', 'Ham', 'still', 'on', 'thee', 'Mar', 'lord', 'Ham', 'hands', 'Hor', 'd', 'go', 'Ham', 'nerve', 'beckons', 'd', 'gentlemen', 'me', 'away', 'on', 'thee', 'Hamlet', 'Hor', 'imagination', 'Mar', 'follow', 'him', 'Hor', 'after', 'come', 'Mar', 'Denmark', 'Hor', 'it', 'Mar', 'him', 'Exeunt', 'V', 'Elsinore', 'Castle', 'fortifications', 'Hamlet', 'Ham', 'me', 'Speak', 'further', 'Ghost', 'me', 'Ham', 'will', 'Ghost', 'myself', 'Ham', 'ghost', 'Ghost', 'unfold', 'Ham', 'Speak', 'hear', 'Ghost', 'hear', 'Ham', 'What', 'Ghost', 'away', 'porpentine', 'blood', 'list', 'Ham', 'God', 'Ghost', 'murther', 'Ham', 'Murther', 'Ghost', 'unnatural', 'Ham', 'revenge', 'Ghost', 'this', 'hear', 'me', 'd', 'crown', 'Ham', 'soul', 'uncle', 'Ghost', 'seduce', 'queen', 'mine', 'garbage', 'soft', 'air', 'be', 'blood', 'body', 'head', 'Ham', 'horrible', 'horrible', 'horrible', 'Ghost', 'not', 'incest', 'aught', 'her', 'once', 'fire', 'adieu', 'me', 'Exit', 'Ham', 'heaven', 'earth', 'else', 'hell', 'heart', 'up', 'thee', 'globe', 'thee', 'matter', 'heaven', 'woman', 'villain', 'tables', 'Denmark', 'Writes', 'are', 'adieu', 'me', 't', 'Hor', 'lord', 'Marcellus', 'Mar', 'Hamlet', 'Hor', 'him', 'Ham', 'it', 'Mar', 'lord', 'Ham', 'boy', 'come', 'Mar', 'lord', 'Hor', 'lord', 'Mar', 'wonderful', 'Hor', 'it', 'Ham', 'it', 'Hor', 'heaven', 'Mar', 'lord', 'Ham', 'then', 'it', 'secret', 'Both', 'lord', 'Ham', 'knave', 'Hor', 'this', 'Ham', 'right', 'right', 'pray', 'Hor', 'lord', 'Ham', 'heartily', 'Hor', 'lord', 'Ham', 'too', 'you', 'may', 'request', 'Hor', 'lord', 'will', 'Ham', 'night', 'Both', 'not', 'Ham', 't', 'Hor', 'I', 'Mar', 'faith', 'Ham', 'sword', 'Mar', 'already', 'Ham', 'indeed', 'stage', 'Ghost', 'Swear', 'Ham', 'so', 'truepenny', 'on', 'cellarage', 'swear', 'Hor', 'lord', 'Ham', 'seen', 'sword', 'Ghost', 'Swear', 'Ham', 'ubique', 'ground', 'sword', 'sword', 'Ghost', 'sword', 'Ham', 'mole', 'fast', 'pioner', 'friends', 'Hor', 'strange', 'Ham', 'welcome', 'philosophy', 'come', 'Swear', 'Ghost', 'Swear', 'swear', 'Ham', 'spirit', 'lack', 'pray', 'joint', 'right', 'together', 'Exeunt', 'II', 'I', 'Elsinore', 'Polonius', 'Reynaldo', 'Pol', 'Reynaldo', 'Rey', 'lord', 'Pol', 'behaviour', 'Rey', 'it', 'Pol', 'said', 'it', 'him', 'Reynaldo', 'Rey', 'lord', 'Pol', 'well', 'liberty', 'Rey', 'lord', 'Pol', 'Drabbing', 'far', 'Rey', 'him', 'Pol', 'charge', 'incontinency', 'meaning', 'assault', 'Rey', 'Pol', 'this', 'Rey', 'that', 'Pol', 'warrant', 'Rey', 'lord', 'Pol', 'say', 'something', 'leave', 'Rey', 'gentleman', 'Pol', 'marry', 'gentleman', 'forth', 'out', 'son', 'Rey', 'have', 'Pol', 'well', 'Rey', 'lord', 'Going', 'Pol', 'yourself', 'Rey', 'lord', 'Pol', 'music', 'Rey', 'lord', 'Pol', 'Farewell', 'Reynaldo', 'Ophelia', 'Ophelia', 'matter', 'Oph', 'affrighted', 'Pol', 'Oph', 'me', 'Pol', 'love', 'Oph', 'it', 'Pol', 'he', 'Oph', 'it', 'so', 'being', 'me', 'Pol', 'me', 'King', 'natures', 'sorry', 'late', 'Oph', 'me', 'Pol', 'mad', 'him', 'jealousy', 'discretion', 'King', 'love', 'Come', 'Exeunt', 'II', 'Elsinore', 'Castle', 'Flourish', 'aliis', 'King', 'Guildenstern', 'sending', 'transformation', 'was', 'of', 'remedy', 'Queen', 'adheres', 'remembrance', 'Ros', 'entreaty', 'Guil', 'commanded', 'King', 'Guildenstern', 'Queen', 'Rosencrantz', 'son', 'is', 'Guil', 'him', 'Queen', 'amen', 'Polonius', 'Pol', 'd', 'King', 'news', 'Pol', 'lord', 'lunacy', 'King', 'that', 'hear', 'Pol', 'ambassadors', 'feast', 'King', 'in', 'Polonius', 'distemper', 'Queen', 'marriage', 'King', 'him', 'Cornelius', 'friends', 'Norway', 'Volt', 'desires', 'Majesty', 'paper', 'down', 'King', 'business', 'labour', 'together', 'home', 'Ambassadors', 'Pol', 'ended', 'time', 'time', 'brief', 'mad', 'mad', 'go', 'Queen', 'art', 'Pol', 'all', 'true', 'figure', 'art', 'then', 'cause', 'thus', 'Perpend', 'this', 'surmise', 'letter', 'phrase', 'hear', 'Reads', 'c', 'Queen', 'her', 'Pol', 'awhile', 'faithful', 'Reads', 'love', 'it', 'Adieu', 'HAMLET', 'ear', 'King', 'love', 'Pol', 'me', 'King', 'honourable', 'Pol', 'so', 'sight', 'think', 'star', 'be', 'tokens', 'for', 'King', 'this', 'Queen', 'like', 'Pol', 'otherwise', 'King', 'know', 'Pol', 'otherwise', 'centre', 'King', 'further', 'Pol', 'lobby', 'Queen', 'indeed', 'Pol', 'him', 'then', 'encounter', 'carters', 'King', 'it', 'book', 'Queen', 'reading', 'Pol', 'presently', 'leave', 'Hamlet', 'Ham', 'mercy', 'Pol', 'lord', 'Ham', 'well', 'fishmonger', 'Pol', 'lord', 'Ham', 'man', 'Pol', 'lord', 'Ham', 'sir', 'thousand', 'Pol', 'lord', 'Ham', 'daughter', 'Pol', 'lord', 'Ham', 'sun', 'conceive', 't', 'Pol', 'that', 'daughter', 'first', 'fishmonger', 'gone', 'this', 'again', 'lord', 'Ham', 'words', 'Pol', 'lord', 'Ham', 'who', 'Pol', 'lord', 'Ham', 'hams', 'backward', 'Pol', 't', 'lord', 'Ham', 'grave', 'Pol', 'air', 'are', 'of', 'daughter', 'you', 'Ham', 'Guildenstern', 'Pol', 'lord', 'Ham', 'fools', 'Pol', 'Hamlet', 'is', 'Ros', 'sir', 'Guil', 'lord', 'Ros', 'lord', 'Ham', 'friends', 'Guildenstern', 'Rosencrantz', 'both', 'Ros', 'earth', 'Guil', 'happy', 'button', 'Ham', 'shoe', 'Ros', 'lord', 'Ham', 'favours', 'Guil', 'we', 'Ham', 'Fortune', 'O', 'true', 'strumpet', 'Ros', 'honest', 'Ham', 'near', 'true', 'particular', 'hither', 'Guil', 'lord', 'Ham', 'prison', 'Ros', 'one', 'Ham', 'worst', 'Ros', 'lord', 'Ham', 'so', 'prison', 'Ros', 'one', 'mind', 'Ham', 'dreams', 'Guil', 'dream', 'Ham', 'shadow', 'Ros', 'shadow', 'Ham', 'shadows', 'court', 'reason', 'Both', 'you', 'Ham', 'matter', 'attended', 'Elsinore', 'Ros', 'occasion', 'Ham', 'halfpenny', 'for', 'inclining', 'visitation', 'me', 'come', 'speak', 'Guil', 'lord', 'Ham', 'purpose', 'colour', 'you', 'Ros', 'lord', 'Ham', 'me', 'no', 'Ros', 'you', 'Ham', 'you', 'off', 'Guil', 'for', 'Ham', 'why', 'feather', 'vapours', 'man', 'reason', 'faculties', 'admirable', 'angel', 'god', 'animals', 'dust', 'so', 'Ros', 'thoughts', 'Ham', 'Ros', 'you', 'service', 'Ham', 'fort', 'they', 'Ros', 'city', 'Ham', 'travel', 'ways', 'Ros', 'innovation', 'Ham', 'city', 'd', 'Ros', 'not', 'Ham', 'it', 'rusty', 'Ros', 'fort', 'thither', 'Ham', 'children', 'em', 'escoted', 'sing', 'succession', 'Ros', 'controversy', 'question', 'Ham', 'possible', 'Guil', 'brains', 'Ham', 'away', 'Ros', 'too', 'Ham', 'little', 'out', 'Players', 'Guil', 'players', 'Ham', 'Elsinore', 'come', 'ceremony', 'yours', 'welcome', 'd', 'Guil', 'lord', 'Ham', 'west', 'handsaw', 'Polonius', 'Pol', 'gentlemen', 'Ham', 'hearer', 'clouts', 'Ros', 'child', 'Ham', 'players', 'it', 'indeed', 'Pol', 'you', 'Ham', 'you', 'Pol', 'lord', 'Ham', 'buzz', 'Pol', 'Ham', 'Pol', 'unlimited', 'light', 'men', 'Ham', 'thou', 'Pol', 'lord', 'Ham', 'well', 'Pol', 'daughter', 'Ham', 'Jephthah', 'Pol', 'well', 'Ham', 'not', 'Pol', 'lord', 'Ham', 'was', 'comes', 'Players', 'all', 'well', 'friends', 'friend', 'last', 'Denmark', 'mistress', 'chopine', 'ring', 'welcome', 'see', 'straight', 'quality', 'speech', '1', 'Play', 'lord', 'Ham', 'cunning', 'fine', 'd', 'slaughter', 'dismal', 'murther', 'seeks', 'you', 'Pol', 'discretion', '1', 'Play', 'Greeks', 'command', 'falls', 'ear', 'lo', 'stick', 'nothing', 'Priam', 'Fortune', 'fiends', 'Pol', 'long', 'Ham', 'beard', 'on', 'sleeps', 'Hecuba', '1', 'Play', 'Ham', 'Pol', 'good', 'good', '1', 'Play', 'd', 'gods', 'Pol', 'eyes', 'more', 'Ham', 'well', 'soon', 'd', 'hear', 'time', 'live', 'Pol', 'desert', 'Ham', 'better', 'whipping', 'dignity', 'bounty', 'in', 'Pol', 'sirs', 'Ham', 'friends', 'morrow', 'friend', '1', 'Play', 'lord', 'Ham', 'night', 'not', '1', 'Play', 'lord', 'Ham', 'well', 'not', 'Player', 'night', 'Elsinore', 'Ros', 'lord', 'Ham', 'ye', 'alone', 'I', 'conceit', 'nothing', 'Hecuba', 'her', 'have', 'ears', 'nothing', 'made', 'coward', 'villain', 'across', 'face', 'nose', 'lungs', 'ha', 'it', 'offal', 'villain', 'villain', 'vengeance', 'I', 'scullion', 't', 'foh', 'brain', 'uncle', 'quick', 'course', 'me', 'this', 'King', 'Exit', 'III', 'I', 'Elsinore', 'Castle', 'Lords', 'King', 'lunacy', 'Ros', 'speak', 'Guil', 'state', 'Queen', 'well', 'Ros', 'gentleman', 'Guil', 'disposition', 'Ros', 'reply', 'Queen', 'pastime', 'Ros', 'way', 'it', 'him', 'Pol', 'matter', 'King', 'd', 'delights', 'Ros', 'lord', 'Guildenstern', 'King', 'Ophelia', 'for', 'Queen', 'wildness', 'honours', 'Oph', 'may', 'Queen', 'Pol', 'here', 'ourselves', 'loneliness', 'himself', 'King', 'true', 'conscience', 'word', 'burthen', 'Pol', 'coming', 'lord', 'Hamlet', 'Ham', 'them', 'to', 'd', 'sleep', 'rub', 'pause', 'life', 'bodkin', 'of', 'action', 'now', 'Ophelia', 'red', 'Oph', 'day', 'Ham', 'well', 'Oph', 'deliver', 'them', 'Ham', 'I', 'aught', 'Oph', 'rich', 'unkind', 'lord', 'Ham', 'ha', 'honest', 'Oph', 'lord', 'Ham', 'fair', 'Oph', 'lordship', 'Ham', 'beauty', 'Oph', 'honesty', 'Ham', 'likeness', 'proof', 'once', 'Oph', 'so', 'Ham', 'it', 'not', 'Oph', 'deceived', 'Ham', 'nunnery', 'sinners', 'me', 'in', 'heaven', 'us', 'nunnery', 'father', 'Oph', 'lord', 'Ham', 'house', 'Farewell', 'Oph', 'heavens', 'Ham', 'calumny', 'nunnery', 'farewell', 'them', 'too', 'Farewell', 'Oph', 'him', 'Ham', 'enough', 'another', 'ignorance', 't', 'mad', 'marriages', 'are', 'go', 'Exit', 'Oph', 'erthrown', 'down', 'ecstasy', 'see', 'Polonius', 'King', 'Love', 'madness', 'tribute', 'himself', 't', 'Pol', 'well', 'love', 'Ophelia', 'said', 'all', 'grief', 'conference', 'think', 'King', 'so', 'go', 'Exeunt', 'II', 'Elsinore', 'Castle', 'Players', 'Ham', 'tongue', 'lines', 'smoothness', 'noise', 'Termagant', 'Herod', 'it', 'Player', 'honour', 'Ham', 'tutor', 'pressure', 'others', 'abominably', 'Player', 'sir', 'Ham', 'altogether', 'them', 'considered', 'it', 'ready', 'Players', 'Guildenstern', 'lord', 'work', 'Pol', 'presently', 'Ham', 'Polonius', 'them', 'Both', 'lord', 'two', 'Ham', 'Horatio', 'Horatio', 'Hor', 'service', 'Ham', 'withal', 'Hor', 'lord', 'Ham', 'thee', 'd', 'fawning', 'hear', 'herself', 'please', 'thee', 'King', 'death', 'uncle', 'stithy', 'seeming', 'Hor', 'lord', 'theft', 'flourish', 'Kettledrums', 'march', 'torches', 'Ham', 'play', 'idle', 'place', 'King', 'Hamlet', 'Ham', 'dish', 'd', 'so', 'King', 'Hamlet', 'mine', 'Ham', 'now', 'say', 'Pol', 'actor', 'Ham', 'enact', 'Pol', 'me', 'Ham', 'there', 'ready', 'Ros', 'lord', 'patience', 'Queen', 'me', 'Ham', 'mother', 'attractive', 'Pol', 'ho', 'that', 'Ham', 'lap', 'feet', 'Oph', 'lord', 'Ham', 'lap', 'Oph', 'lord', 'Ham', 'matters', 'Oph', 'lord', 'Ham', 'legs', 'Oph', 'lord', 'Ham', 'Nothing', 'Oph', 'lord', 'Ham', 'I', 'Oph', 'lord', 'Ham', 'maker', 'merry', 'hours', 'Oph', 'lord', 'Ham', 'long', 'sables', 'heavens', 'yet', 'year', 'forgot', 'play', 'enters', 'her', 'him', 'neck', 'flowers', 'him', 'him', 'action', 'her', 'away', 'love', 'Exeunt', 'Oph', 'lord', 'Ham', 'mischief', 'Oph', 'play', 'Prologue', 'Ham', 'fellow', 'all', 'Oph', 'meant', 'Ham', 'him', 'means', 'Oph', 'naught', 'play', 'Pro', 'patiently', 'Exit', 'Ham', 'ring', 'Oph', 'lord', 'Ham', 'love', 'Queen', 'King', 'bands', 'Queen', 'done', 'me', 'state', 'you', 'extremity', 'so', 'there', 'King', 'do', 'Queen', 'rest', 'breast', 'accurst', 'first', 'Ham', 'wormwood', 'Queen', 'love', 'bed', 'King', 'break', 'be', 'debt', 'lose', 'destroy', 'accident', 'love', 'enemy', 'own', 'dead', 'Queen', 'wife', 'Ham', 'now', 'King', 'sworn', 'awhile', 'sleep', 'Queen', 'sleeps', 'twain', 'Exit', 'Ham', 'play', 'Queen', 'methinks', 'Ham', 'word', 'King', 'argument', 't', 'Ham', 'no', 'world', 'King', 'play', 'Ham', 'Mousetrap', 'how', 'Tropically', 'Vienna', 'Baptista', 'anon', 'that', 'not', 'unwrung', 'Lucianus', 'King', 'Oph', 'lord', 'Ham', 'dallying', 'Oph', 'keen', 'Ham', 'edge', 'Oph', 'worse', 'Ham', 'husbands', 'murtherer', 'begin', 'revenge', 'Luc', 'immediately', 'ears', 'Ham', 'estate', 'Gonzago', 'Italian', 'wife', 'Oph', 'rises', 'Ham', 'fire', 'Queen', 'lord', 'Pol', 'play', 'King', 'light', 'Away', 'All', 'lights', 'Horatio', 'Ham', 'away', 'sir', 'Hor', 'share', 'Ham', 'I', 'pajock', 'Hor', 'd', 'Ham', 'pound', 'perceive', 'Hor', 'lord', 'Ham', 'poisoning', 'Hor', 'him', 'Ham', 'Aha', 'music', 'recorders', 'perdy', 'music', 'Guildenstern', 'Guil', 'you', 'Ham', 'history', 'Guil', 'Ham', 'him', 'Guil', 'd', 'Ham', 'sir', 'Guil', 'choler', 'Ham', 'choler', 'Guil', 'affair', 'Ham', 'pronounce', 'Guil', 'you', 'Ham', 'welcome', 'Guil', 'breed', 'business', 'Ham', 'cannot', 'Guil', 'lord', 'Ham', 'd', 'mother', 'matter', 'Ros', 'admiration', 'Ham', 'mother', 'admiration', 'Impart', 'Ros', 'bed', 'Ham', 'mother', 'us', 'Ros', 'me', 'Ham', 'stealers', 'Ros', 'distemper', 'friend', 'Ham', 'advancement', 'Ros', 'Denmark', 'Ham', 'musty', 'recorders', 'recorders', 'one', 'toil', 'Guil', 'unmannerly', 'Ham', 'that', 'pipe', 'Guil', 'cannot', 'Ham', 'you', 'Guil', 'cannot', 'Ham', 'you', 'Guil', 'lord', 'Ham', 'lying', 'music', 'stops', 'Guil', 'harmony', 'skill', 'Ham', 'me', 'speak', 'pipe', 'me', 'Polonius', 'sir', 'Pol', 'presently', 'Ham', 'camel', 'Pol', 'indeed', 'Ham', 'weasel', 'Pol', 'weasel', 'Ham', 'whale', 'Pol', 'whale', 'Ham', 'by', 'bent', 'by', 'Pol', 'so', 'Exit', 'Ham', 'said', 'friends', 'Hamlet', 'world', 'on', 'Soft', 'mother', 'bosom', 'none', 'consent', 'Exit', 'III', 'Castle', 'Guildenstern', 'King', 'range', 'you', 'lunacies', 'Guil', 'provide', 'Majesty', 'Ros', 'many', 'it', 'ruin', 'groan', 'King', 'footed', 'Both', 'us', 'Gentlemen', 'Polonius', 'Pol', 'closet', 'process', 'vantage', 'liege', 'know', 'King', 'lord', 'murther', 'will', 'neglect', 'snow', 'offence', 'down', 'past', 'turn', 'queen', 'offence', 'above', 'evidence', 'then', 'rests', 'can', 'not', 'repent', 'state', 'death', 'd', 'angels', 'assay', 'babe', 'well', 'kneels', 'Hamlet', 'Ham', 't', 'd', 'd', 'heaven', 'revenge', 'heaven', 'passage', 'No', 'hent', 'goes', 'stays', 'days', 'Exit', 'King', 'below', 'go', 'Exit', 'IV', 'closet', 'Polonius', 'Pol', 'straight', 'him', 'him', 'here', 'him', 'Ham', 'mother', 'Queen', 'not', 'coming', 'arras', 'Hamlet', 'Ham', 'matter', 'Queen', 'offended', 'Ham', 'offended', 'Queen', 'tongue', 'Ham', 'tongue', 'Queen', 'Hamlet', 'Ham', 'now', 'Queen', 'me', 'Ham', 'so', 'so', 'mother', 'Queen', 'speak', 'Ham', 'down', 'you', 'Queen', 'do', 'me', 'ho', 'Pol', 'ho', 'help', 'Ham', 'now', 'rat', 'dead', 'Polonius', 'Pol', 'slain', 'Queen', 'done', 'Ham', 'not', 'King', 'Queen', 'this', 'Ham', 'brother', 'Queen', 'king', 'Ham', 'word', 'Polonius', 'farewell', 'better', 'fortune', 'danger', 'hinds', 'Peace', 'sense', 'Queen', 'me', 'Ham', 'oaths', 'words', 'act', 'Queen', 'index', 'Ham', 'brothers', 'man', 'husband', 'follows', 'brother', 'eyes', 'moor', 'Ha', 'this', 'difference', 'blind', 'mope', 'shame', 'blush', 'fire', 'will', 'Queen', 'more', 'tinct', 'Ham', 'sty', 'Queen', 'more', 'ears', 'Hamlet', 'Ham', 'villain', 'pocket', 'Queen', 'more', 'nightgown', 'Ham', 'patches', 'guards', 'figure', 'Queen', 'mad', 'Ham', 'command', 'say', 'Ghost', 'forget', 'purpose', 'sits', 'works', 'Hamlet', 'Ham', 'lady', 'Queen', 'discourse', 'end', 'patience', 'look', 'Ham', 'him', 'glares', 'capable', 'effects', 'blood', 'Queen', 'this', 'Ham', 'there', 'Queen', 'see', 'Ham', 'hear', 'Queen', 'ourselves', 'Ham', 'there', 'away', 'd', 'portal', 'Ghost', 'Queen', 'brain', 'in', 'Ham', 'Ecstasy', 'music', 'red', 'from', 'speaks', 'unseen', 'ranker', 'good', 'Queen', 'twain', 'Ham', 'bed', 'not', 'on', 'potency', 'you', 'minister', 'him', 'night', 'behind', 'lady', 'Queen', 'do', 'Ham', 'craft', 'hide', 'so', 'down', 'Queen', 'me', 'Ham', 'that', 'Queen', 'forgot', 'on', 'Ham', 'knavery', 'moon', 'meet', 'packing', 'room', 'night', 'knave', 'you', 'mother', 'Queen', 'Polonius', 'IV', 'I', 'Elsinore', 'Castle', 'Guildenstern', 'King', 'sighs', 'them', 'son', 'Queen', 'while', 'Guildenstern', 'night', 'King', 'Gertrude', 'Hamlet', 'Queen', 'mightier', 'rat', 'man', 'King', 'deed', 'there', 'one', 'd', 'man', 'life', 'gone', 'Queen', 'pure', 'done', 'King', 'away', 'excuse', 'Guildenstern', 'Guildenstern', 'aid', 'him', 'chapel', 'this', 'done', 'air', 'away', 'dismay', 'Exeunt', 'II', 'Elsinore', 'Castle', 'Hamlet', 'Ham', 'd', 'Gentlemen', 'Hamlet', 'Hamlet', 'Ham', 'soft', 'noise', 'Hamlet', 'come', 'Guildenstern', 'Ros', 'body', 'Ham', 'kin', 'Ros', 'chapel', 'Ham', 'it', 'Ros', 'what', 'Ham', 'own', 'king', 'Ros', 'lord', 'Ham', 'authorities', 'end', 'Swallowed', 'again', 'Ros', 'lord', 'Ham', 'it', 'ear', 'Ros', 'King', 'Ham', 'body', 'Guil', 'lord', 'Ham', 'nothing', 'him', 'after', 'Exeunt', 'III', 'Elsinore', 'Castle', 'King', 'King', 'body', 'loose', 'him', 'offence', 'pause', 'all', 'Rosencrantz', 'n', 'Ros', 'him', 'King', 'he', 'Ros', 'pleasure', 'King', 'us', 'Ros', 'Guildenstern', 'lord', 'King', 'Polonius', 'Ham', 'supper', 'King', 'supper', 'Where', 'Ham', 'eaten', 'him', 'diet', 'maggots', 'table', 'end', 'King', 'alas', 'Ham', 'worm', 'King', 'this', 'Ham', 'beggar', 'King', 'Polonius', 'Ham', 'heaven', 'see', 'yourself', 'lobby', 'King', 'there', 'Attendants', 'Ham', 'come', 'Attendants', 'King', 'quickness', 'thyself', 'England', 'Ham', 'England', 'King', 'Hamlet', 'Ham', 'Good', 'King', 'purposes', 'Ham', 'them', 'England', 'mother', 'King', 'Hamlet', 'Ham', 'mother', 'mother', 'England', 'Exit', 'King', 'aboard', 'night', 'Away', 'affair', 'haste', 'Hamlet', 'me', 'begun', 'Exit', 'IV', 'Elsinore', 'stage', 'For', 'king', 'kingdom', 'rendezvous', 'so', 'Capt', 'lord', 'For', 'on', 'others', 'Ham', 'these', 'Capt', 'sir', 'Ham', 'you', 'Capt', 'Poland', 'Ham', 'sir', 'Capt', 'Fortinbras', 'Ham', 'frontier', 'Capt', 'name', 'fee', 'Ham', 'it', 'Capt', 'd', 'Ham', 'straw', 'dies', 'sir', 'Capt', 'sir', 'Exit', 'Ros', 'lord', 'Ham', 'straight', 'before', 'Hamlet', 'revenge', 'feed', 'more', 'd', 't', 'me', 'eggshell', 'stake', 'slain', 'worth', 'Exit', 'V', 'Elsinore', 'Castle', 'Gentleman', 'Queen', 'her', 'Gent', 'distract', 'pitied', 'Queen', 'have', 'Gent', 'sense', 'unhappily', 'Hor', 'minds', 'Queen', 'in', 'Gentleman', 'amiss', 'spilt', 'distracted', 'Oph', 'Denmark', 'Queen', 'Ophelia', 'Oph', 'one', 'shoon', 'Queen', 'song', 'Oph', 'you', 'mark', 'stone', 'ho', 'Queen', 'Oph', 'mark', 'King', 'Queen', 'lord', 'Oph', 'showers', 'King', 'lady', 'Oph', 'you', 'daughter', 'be', 'table', 'King', 'father', 'Oph', 'Valentine', 'more', 'King', 'Ophelia', 'Oph', 't', 'shame', 'blame', 'wed', 'bed', 'King', 'thus', 'Oph', 'well', 'ground', 'counsel', 'coach', 'ladies', 'ladies', 'night', 'King', 'you', 'Horatio', 'death', 'spies', 'battalions', 'ear', 'death', 'within', 'Queen', 'this', 'King', 'Switzers', 'door', 'Messenger', 'matter', 'Mess', 'offices', 'we', 'king', 'king', 'king', 'within', 'Queen', 'cry', 'dogs', 'King', 'broke', 'others', 'Laer', 'king', 'without', 'All', 'in', 'Laer', 'leave', 'All', 'will', 'Laer', 'you', 'door', 'Followers', 'father', 'Queen', 'Laertes', 'Laer', 'mother', 'King', 'giantlike', 'Gertrude', 'person', 'will', 'd', 'Gertrude', 'man', 'Laer', 'father', 'King', 'Dead', 'Queen', 'him', 'King', 'fill', 'Laer', 'dead', 'allegiance', 'pit', 'damnation', 'father', 'King', 'you', 'Laer', 'world', 'little', 'King', 'loser', 'Laer', 'enemies', 'King', 'then', 'Laer', 'blood', 'King', 'gentleman', 'eye', 'in', 'Laer', 'now', 'that', 'Ophelia', 'brains', 'eye', 'beam', 'May', 'Ophelia', 'heavens', 'life', 'loves', 'Oph', 'tear', 'dove', 'Laer', 'thus', 'Oph', 'a', 'it', 'daughter', 'Laer', 'matter', 'Oph', 'remembrance', 'remember', 'thoughts', 'Laer', 'madness', 'fitted', 'Oph', 'columbines', 'me', 'Sundays', 'difference', 'daisy', 'died', 'end', 'joy', 'Laer', 'prettiness', 'Oph', 'again', 'again', 'again', 'poll', 'moan', 'soul', 'God', 'you', 'Exit', 'Laer', 'God', 'King', 'right', 'me', 'content', 'Laer', 'so', 'question', 'King', 'fall', 'me', 'VI', 'Elsinore', 'Castle', 'Attendant', 'Hor', 'me', 'Servant', 'sir', 'you', 'Hor', 'in', 'Attendant', 'Hamlet', 'Sailors', 'Sailor', 'sir', 'Hor', 'too', 'Sailor', 'him', 'is', 'Hor', 'King', 'him', 'chase', 'them', 'prisoner', 'them', 'death', 'matter', 'am', 'England', 'thee', 'Farewell', 'HAMLET', 'them', 'Exeunt', 'VII', 'Elsinore', 'Castle', 'Laertes', 'King', 'life', 'Laer', 'appears', 'up', 'King', 'strong', 'her', 'them', 'Laer', 'perfections', 'come', 'King', 'that', 'pastime', 'more', 'letters', 'now', 'news', 'Mess', 'Queen', 'King', 'Hamlet', 'them', 'Mess', 'not', 'them', 'King', 'them', 'us', 'Messenger', 'kingdom', 'return', 'HAMLET', 'mean', 'back', 'thing', 'Laer', 'hand', 'King', 'character', 'Naked', 'alone', 'me', 'Laer', 'lord', 'come', 'thou', 'King', 'so', 'otherwise', 'me', 'Laer', 'peace', 'King', 'peace', 'accident', 'Laer', 'organ', 'King', 'right', 'siege', 'Laer', 'lord', 'King', 'graveness', 'Normandy', 't', 'beast', 'did', 'Laer', 't', 'King', 'Norman', 'Laer', 'Lamound', 'King', 'same', 'Laer', 'well', 'nation', 'King', 'you', 'them', 'you', 'Laer', 'lord', 'King', 'you', 'Laer', 'this', 'King', 'it', 'much', 'easing', 'ulcer', 'back', 'words', 'Laer', 'church', 'King', 'bounds', 'this', 'chamber', 'home', 'heads', 'father', 'Laer', 't', 'sword', 'withal', 'death', 'King', 'shape', 'performance', 'd', 'proof', 'Soft', 'see', 't', 'there', 'Queen', 'queen', 'Queen', 'follow', 'Laertes', 'Laer', 'd', 'where', 'Queen', 'stream', 'them', 'brook', 'death', 'Laer', 'd', 'Queen', 'd', 'Laer', 'will', 'out', 'lord', 'it', 'Exit', 'King', 'Gertrude', 'follow', 'Exeunt', 'V', 'I', 'Elsinore', 'churchyard', 'Clown', 'salvation', 'Other', 'straight', 'burial', 'Clown', 'defence', 'Other', 'so', 'Clown', 'else', 'wittingly', 'Other', 'Delver', 'Clown', 'leave', 'good', 'good', 'that', 'himself', 'life', 'Other', 'law', 'Clown', 'law', 'Other', 't', 'burial', 'Clown', 'st', 'Christen', 'spade', 'makers', 'profession', 'Other', 'gentleman', 'Clown', 'arms', 'Other', 'none', 'Clown', 'heathen', 'Scripture', 'd', 'arms', 'thee', 'Other', 'to', 'Clown', 'carpenter', 'Other', 'tenants', 'Clown', 'faith', 'well', 'well', 'ill', 'church', 'thee', 'come', 'Other', 'carpenter', 'Clown', 'unyoke', 'Other', 'tell', 'Clown', 't', 'Other', 'tell', 'off', 'Clown', 'maker', 'doomsday', 'liquor', 'Clown', 'sings', 'meet', 'Ham', 'making', 'Hor', 'easiness', 'Ham', 'so', 'sense', 'Clown', 'such', 'skull', 'Ham', 'once', 'murther', 'not', 'Hor', 'lord', 'Ham', 'lord', 'lord', 'not', 'Hor', 'lord', 'Ham', 'so', 'spade', 't', 'em', 't', 'Clown', 'meet', 'Ham', 'another', 'lawyer', 'tricks', 'battery', 'Hum', 'recoveries', 'dirt', 'indentures', 'ha', 'Hor', 'lord', 'Ham', 'sheepskins', 'Hor', 'too', 'Ham', 'that', 'fellow', 'sirrah', 'Clown', 'sir', 'meet', 'Ham', 't', 'Clown', 'yours', 'mine', 'Ham', 'thine', 'liest', 'Clown', 'you', 'Ham', 'for', 'Clown', 'sir', 'Ham', 'then', 'Clown', 'neither', 'Ham', 't', 'Clown', 'dead', 'Ham', 'is', 'us', 'kibe', 'maker', 'Clown', 'Fortinbras', 'Ham', 'since', 'Clown', 'that', 'that', 'England', 'Ham', 'England', 'Clown', 'mad', 'there', 'Ham', 'Why', 'Clown', 'there', 'he', 'Ham', 'mad', 'Clown', 'say', 'Ham', 'strangely', 'Clown', 'wits', 'Ham', 'ground', 'Clown', 'Denmark', 'years', 'Ham', 'rot', 'Clown', 'year', 'year', 'Ham', 'another', 'Clown', 'body', 'now', 'years', 'Ham', 'it', 'Clown', 'was', 'was', 'Ham', 'not', 'Clown', 'rogue', 'once', 'jester', 'Ham', 'This', 'Clown', 'that', 'Ham', 'see', 'skull', 'Yorick', 'Horatio', 'fancy', 'tunes', 'is', 'it', 'oft', 'now', 'gambols', 'songs', 'roar', 'grinning', 'n', 'come', 'that', 'thing', 'Hor', 'lord', 'Ham', 'earth', 'Hor', 'so', 'Ham', 'so', 'Pah', 'skull', 'Hor', 'lord', 'Ham', 'Horatio', 'bunghole', 'Hor', 'so', 'Ham', 'barrel', 'away', 'flaw', 'soft', 'soft', 'aside', 'attendant', 'courtiers', 'follow', 'rites', 'life', 'estate', 'mark', 'Horatio', 'Laer', 'else', 'Ham', 'youth', 'Mark', 'Laer', 'else', 'Priest', 'warranty', 'trumpet', 'her', 'burial', 'Laer', 'done', 'Priest', 'done', 'souls', 'Laer', 'spring', 'howling', 'Ham', 'Ophelia', 'Queen', 'sweet', 'Farewell', 'flowers', 'grave', 'Laer', 'of', 'arms', 'grave', 'Olympus', 'Ham', 'emphasis', 'hearers', 'Dane', 'Laertes', 'Laer', 'soul', 'Ham', 'well', 'fear', 'hand', 'King', 'asunder', 'Queen', 'Hamlet', 'All', 'Gentlemen', 'Hor', 'quiet', 'grave', 'Ham', 'wag', 'Queen', 'theme', 'Ham', 'Ophelia', 'sum', 'her', 'King', 'Laertes', 'Queen', 'him', 'Ham', 'do', 'weep', 'fight', 'fast', 'thyself', 'esill', 'crocodile', 't', 'whine', 'grave', 'I', 'wart', 'thou', 'Queen', 'him', 'drooping', 'Ham', 'sir', 'thus', 'ever', 'matter', 'day', 'Exit', 'King', 'him', 'Horatio', 'speech', 'push', 'son', 'monument', 'be', 'Exeunt', 'II', 'Elsinore', 'Castle', 'Horatio', 'Ham', 'other', 'circumstance', 'Hor', 'lord', 'Ham', 'sleep', 'bilboes', 'Hor', 'certain', 'Ham', 'knavery', 'hoo', 'off', 'Hor', 'possible', 'Ham', 'leisure', 'proceed', 'Hor', 'you', 'Ham', 'play', 'fair', 'service', 'wrote', 'Hor', 'lord', 'Ham', 'd', 'Hor', 'd', 'Ham', 'ordinant', 'known', 'already', 'Hor', 't', 'Ham', 'employment', 'grow', 'opposites', 'Hor', 'this', 'Ham', 'arm', 'evil', 'Hor', 'there', 'Ham', 'one', 'his', 'favours', 'passion', 'Hor', 'Peace', 'here', 'courtier', 'Osr', 'Denmark', 'Ham', 'sir', 'waterfly', 'Hor', 'lord', 'Ham', 'him', 'fertile', 'mess', 'dirt', 'Osr', 'Majesty', 'Ham', 'spirit', 'use', 'head', 'Osr', 'hot', 'Ham', 'northerly', 'Osr', 'indeed', 'Ham', 'complexion', 'Osr', 'how', 'head', 'Ham', 'remember', 'hat', 'Osr', 'faith', 'showing', 'see', 'Ham', 'sail', 'more', 'Osr', 'him', 'Ham', 'sir', 'Osr', 'Sir', 'tongue', 'really', 'Ham', 'Osr', 'Laertes', 'Hor', 'already', 'spent', 'Ham', 'sir', 'Osr', 'Ham', 'me', 'sir', 'Osr', 'Ham', 'himself', 'Osr', 'unfellowed', 'Ham', 'weapon', 'Osr', 'dagger', 'Ham', 'well', 'Osr', 'so', 'conceit', 'Ham', 'carriages', 'Hor', 'done', 'Osr', 'hangers', 'Ham', 'sides', 'then', 'on', 'Danish', 'it', 'Osr', 'answer', 'Ham', 'no', 'Osr', 'trial', 'Ham', 'hall', 'me', 'hits', 'Osr', 'so', 'Ham', 'will', 'Osr', 'lordship', 'Ham', 'yours', 'Osric', 'turn', 'Hor', 'head', 'Ham', 'it', 'Lord', 'Lord', 'hall', 'time', 'Ham', 'pleasure', 'now', 'Lord', 'down', 'Ham', 'time', 'Lord', 'play', 'Ham', 'me', 'Lord', 'Hor', 'lord', 'Ham', 'so', 'practice', 'odds', 'heart', 'matter', 'Hor', 'Ham', 'woman', 'Hor', 'it', 'fit', 'Ham', 'sparrow', 'all', 'betimes', 'be', 'gauntlets', 'it', 'King', 'me', 's', 'Ham', 'sir', 'gentleman', 'distraction', 'madness', 'Laertes', 'Hamlet', 'it', 'then', 'madness', 'enemy', 'brother', 'Laer', 'revenge', 'd', 'it', 'Ham', 'play', 'foils', 'on', 'Laer', 'me', 'Ham', 'Laertes', 'indeed', 'Laer', 'sir', 'Ham', 'bad', 'King', 'Osric', 'wager', 'Ham', 'lord', 'side', 'King', 'odds', 'Laer', 'another', 'Ham', 'well', 'length', 'play', 'Osr', 'lord', 'King', 'table', 'worn', 'Hamlet', 'begin', 'eye', 'Ham', 'sir', 'Laer', 'lord', 'play', 'Ham', 'One', 'Laer', 'No', 'Ham', 'Judgment', 'Osr', 'hit', 'Laer', 'again', 'King', 'drink', 'health', 'cup', 'Ham', 'awhile', 'Come', 'play', 'hit', 'you', 'Laer', 't', 'King', 'win', 'Queen', 'breath', 'brows', 'Hamlet', 'Ham', 'madam', 'King', 'drink', 'Queen', 'me', 'Drinks', 'King', 'late', 'Ham', 'by', 'Queen', 'face', 'Laer', 'now', 'King', 't', 'Laer', 'conscience', 'Ham', 'Laertes', 'dally', 'me', 'Laer', 'so', 'on', 'Play', 'Osr', 'way', 'Laer', 'now', 'King', 'them', 'd', 'Ham', 'come', 'again', 'falls', 'Osr', 'ho', 'Hor', 'sides', 'lord', 'Osr', 'Laertes', 'Laer', 'Osric', 'treachery', 'Ham', 'Queen', 'King', 'bleed', 'Queen', 'no', 'drink', 'Hamlet', 'drink', 'd', 'Dies', 'Ham', 'villany', 'Ho', 'd', 'Treachery', 'out', 'falls', 'Laer', 'Hamlet', 'good', 'life', 'd', 'me', 'again', 'd', 'more', 'blame', 'Ham', 'too', 'work', 'King', 'All', 'Treason', 'treason', 'King', 'friends', 'hurt', 'Ham', 'potion', 'here', 'mother', 'dies', 'Laer', 'd', 'himself', 'Hamlet', 'me', 'Dies', 'Ham', 'it', 'thee', 'Horatio', 'adieu', 'be', 'unsatisfied', 'Hor', 'it', 'Dane', 'left', 'Ham', 'cup', 'go', 't', 'me', 'story', 'within', 'this', 'Osr', 'volley', 'Ham', 'Horatio', 'spirit', 'Fortinbras', 'voice', 'silence', 'Dies', 'Hor', 'heart', 'rest', 'within', 'hither', 'Attendants', 'Fort', 'sight', 'Hor', 'see', 'search', 'Fort', 'havoc', 'struck', 'Ambassador', 'late', 'dead', 'thanks', 'Hor', 'you', 'death', 'about', 'heads', 'deliver', 'Fort', 'audience', 'fortune', 'me', 'Hor', 'more', 'happen', 'Fort', 'him', 'bodies', 'amiss', 'shoot', 'off']\n"
     ]
    }
   ],
   "source": [
    "print(re.findall(pattern_e,text))"
   ]
  },
  {
   "cell_type": "code",
   "execution_count": null,
   "id": "1cf35ee4-3e73-445d-88de-bda36ded6b58",
   "metadata": {},
   "outputs": [],
   "source": []
  }
 ],
 "metadata": {
  "kernelspec": {
   "display_name": "Python 3 (ipykernel)",
   "language": "python",
   "name": "python3"
  },
  "language_info": {
   "codemirror_mode": {
    "name": "ipython",
    "version": 3
   },
   "file_extension": ".py",
   "mimetype": "text/x-python",
   "name": "python",
   "nbconvert_exporter": "python",
   "pygments_lexer": "ipython3",
   "version": "3.13.7"
  }
 },
 "nbformat": 4,
 "nbformat_minor": 5
}
